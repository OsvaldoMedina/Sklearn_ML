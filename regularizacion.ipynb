{
 "cells": [
  {
   "cell_type": "markdown",
   "metadata": {},
   "source": [
    "# Importando Librerias"
   ]
  },
  {
   "cell_type": "code",
   "execution_count": 12,
   "metadata": {},
   "outputs": [],
   "source": [
    "import pandas as pd\n",
    "import sklearn\n",
    "\n",
    "from sklearn.linear_model import LinearRegression\n",
    "from sklearn.linear_model import Lasso\n",
    "from sklearn.linear_model import Ridge\n",
    "\n",
    "from sklearn.model_selection import train_test_split\n",
    "from sklearn.metrics import mean_squared_error"
   ]
  },
  {
   "cell_type": "markdown",
   "metadata": {},
   "source": [
    "# Inicializando el main y cargando el CSV"
   ]
  },
  {
   "cell_type": "code",
   "execution_count": 13,
   "metadata": {},
   "outputs": [
    {
     "name": "stdout",
     "output_type": "stream",
     "text": [
      "             rank       score        high         low         gdp      family  \\\n",
      "count  155.000000  155.000000  155.000000  155.000000  155.000000  155.000000   \n",
      "mean    78.000000    5.354019    5.452326    5.255713    0.984718    1.188898   \n",
      "std     44.888751    1.131230    1.118542    1.145030    0.420793    0.287263   \n",
      "min      1.000000    2.693000    2.864884    2.521116    0.000000    0.000000   \n",
      "25%     39.500000    4.505500    4.608172    4.374955    0.663371    1.042635   \n",
      "50%     78.000000    5.279000    5.370032    5.193152    1.064578    1.253918   \n",
      "75%    116.500000    6.101500    6.194600    6.006527    1.318027    1.414316   \n",
      "max    155.000000    7.537000    7.622030    7.479556    1.870766    1.610574   \n",
      "\n",
      "           lifexp     freedom  generosity  corruption    dystopia  \n",
      "count  155.000000  155.000000  155.000000  155.000000  155.000000  \n",
      "mean     0.551341    0.408786    0.246883    0.123120    1.850238  \n",
      "std      0.237073    0.149997    0.134780    0.101661    0.500028  \n",
      "min      0.000000    0.000000    0.000000    0.000000    0.377914  \n",
      "25%      0.369866    0.303677    0.154106    0.057271    1.591291  \n",
      "50%      0.606042    0.437454    0.231538    0.089848    1.832910  \n",
      "75%      0.723008    0.516561    0.323762    0.153296    2.144654  \n",
      "max      0.949492    0.658249    0.838075    0.464308    3.117485  \n",
      "(155, 7)\n",
      "(155, 1)\n"
     ]
    }
   ],
   "source": [
    "if __name__ == \"__main__\":\n",
    "    dataset = pd.read_csv('./data/whr2017.csv')\n",
    "    print(dataset.describe())\n",
    "\n",
    "    X = dataset[['gdp', 'family', 'lifexp', 'freedom' , 'corruption' , 'generosity', 'dystopia']]\n",
    "    y = dataset[['score']]\n",
    "\n",
    "    print(X.shape)\n",
    "    print(y.shape)\n",
    "\n",
    "    X_train, X_test, y_train, y_test = train_test_split(X,y, test_size=0.25)"
   ]
  },
  {
   "cell_type": "markdown",
   "metadata": {},
   "source": [
    "# Cargando las regularizaciones Linear, Lasso y Ridge "
   ]
  },
  {
   "cell_type": "code",
   "execution_count": 14,
   "metadata": {},
   "outputs": [],
   "source": [
    "modelLinear = LinearRegression().fit(X_train, y_train)\n",
    "\n",
    "\n",
    "modelLasso = Lasso(alpha=0.02).fit(X_train, y_train)\n",
    "\n",
    "\n",
    "modelRidge = Ridge(alpha=1).fit(X_train, y_train)\n"
   ]
  },
  {
   "cell_type": "markdown",
   "metadata": {},
   "source": [
    "# Aplicando los predict a las regularizaciones Linear, Lasso y Ridge "
   ]
  },
  {
   "cell_type": "code",
   "execution_count": 15,
   "metadata": {},
   "outputs": [],
   "source": [
    "y_predict_linear =  modelLinear.predict(X_test)\n",
    "y_predict_lasso = modelLasso.predict(X_test)\n",
    "y_predict_ridge = modelRidge.predict(X_test)"
   ]
  },
  {
   "cell_type": "markdown",
   "metadata": {},
   "source": [
    "# Imprimiendo resultados de las regularizaciones"
   ]
  },
  {
   "cell_type": "code",
   "execution_count": 16,
   "metadata": {},
   "outputs": [
    {
     "name": "stdout",
     "output_type": "stream",
     "text": [
      "Linear Loss: 8.53635806775958e-08\n",
      "Lasso Loss:  0.050566756728830535\n",
      "Ridge Loss:  0.005996504542954186\n",
      "================================\n",
      "Coef LASSO\n",
      "[1.33662702 0.867771   0.4838533  0.72455978 0.         0.2063667\n",
      " 0.91860544]\n",
      "================================\n",
      "Coef RIDGE\n",
      "[[1.0917188  0.95131734 0.85971244 0.88309797 0.62319248 0.7599776\n",
      "  0.96618837]]\n"
     ]
    }
   ],
   "source": [
    "linear_loss = mean_squared_error(y_test, y_predict_linear)\n",
    "print(\"Linear Loss:\", linear_loss)\n",
    "\n",
    "lasso_loss = mean_squared_error(y_test, y_predict_lasso)\n",
    "print(\"Lasso Loss: \", lasso_loss)\n",
    "\n",
    "ridge_loss = mean_squared_error(y_test, y_predict_ridge)\n",
    "print(\"Ridge Loss: \", ridge_loss)\n",
    "\n",
    "print(\"=\"*32)\n",
    "print(\"Coef LASSO\")\n",
    "print(modelLasso.coef_)\n",
    "    \n",
    "print(\"=\"*32)\n",
    "print(\"Coef RIDGE\")\n",
    "print(modelRidge.coef_)\n",
    "\n",
    "#implementacion_lasso_ridge"
   ]
  }
 ],
 "metadata": {
  "interpreter": {
   "hash": "09a4084717425d05722de28be6aca196788f62c7efa8bb82cf61ef4e5b9ebdc4"
  },
  "kernelspec": {
   "display_name": "Python 3.7.8 64-bit ('entorno': venv)",
   "language": "python",
   "name": "python3"
  },
  "language_info": {
   "codemirror_mode": {
    "name": "ipython",
    "version": 3
   },
   "file_extension": ".py",
   "mimetype": "text/x-python",
   "name": "python",
   "nbconvert_exporter": "python",
   "pygments_lexer": "ipython3",
   "version": "3.7.8"
  },
  "orig_nbformat": 4
 },
 "nbformat": 4,
 "nbformat_minor": 2
}
